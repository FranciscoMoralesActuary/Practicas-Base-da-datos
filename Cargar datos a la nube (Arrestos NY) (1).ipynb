{
 "cells": [
  {
   "cell_type": "markdown",
   "id": "young-november",
   "metadata": {},
   "source": [
    "## Dependencias"
   ]
  },
  {
   "cell_type": "code",
   "execution_count": 26,
   "id": "powered-automation",
   "metadata": {
    "ExecuteTime": {
     "end_time": "2022-03-01T23:32:25.074936Z",
     "start_time": "2022-03-01T23:32:25.069869Z"
    }
   },
   "outputs": [],
   "source": [
    "import pandas as pd\n",
    "import json #JSON = Java Script Object Notation\n",
    "from sqlalchemy import create_engine\n",
    "from sqlalchemy.types import VARCHAR,FLOAT,INTEGER,DATE,CHAR\n",
    "import os\n",
    "\n",
    "pd.set_option('display.max_columns',None)"
   ]
  },
  {
   "cell_type": "markdown",
   "id": "religious-platform",
   "metadata": {},
   "source": [
    "## Credenciales"
   ]
  },
  {
   "cell_type": "code",
   "execution_count": 3,
   "id": "dense-wallet",
   "metadata": {
    "ExecuteTime": {
     "end_time": "2022-03-01T23:24:41.069334Z",
     "start_time": "2022-03-01T23:24:41.066797Z"
    }
   },
   "outputs": [],
   "source": [
    "creds = json.load(open('credenciales.json','rb'))"
   ]
  },
  {
   "cell_type": "markdown",
   "id": "junior-thinking",
   "metadata": {},
   "source": [
    "## Crear conexión a base de datos"
   ]
  },
  {
   "cell_type": "code",
   "execution_count": 4,
   "id": "exotic-roller",
   "metadata": {
    "ExecuteTime": {
     "end_time": "2022-03-01T23:24:41.789895Z",
     "start_time": "2022-03-01T23:24:41.239527Z"
    }
   },
   "outputs": [],
   "source": [
    "url = f\"mysql+pymysql://{creds['user']}:{creds['password']}@{creds['servidor']}/{creds['base_de_datos']}\"\n",
    "cnx = create_engine(url,encoding='utf8')\n",
    "cnx = cnx.connect()"
   ]
  },
  {
   "cell_type": "code",
   "execution_count": 5,
   "id": "graphic-glass",
   "metadata": {
    "ExecuteTime": {
     "end_time": "2022-03-01T23:24:41.800741Z",
     "start_time": "2022-03-01T23:24:41.791269Z"
    }
   },
   "outputs": [
    {
     "data": {
      "text/plain": [
       "False"
      ]
     },
     "execution_count": 5,
     "metadata": {},
     "output_type": "execute_result"
    }
   ],
   "source": [
    "cnx.closed"
   ]
  },
  {
   "cell_type": "markdown",
   "id": "featured-elimination",
   "metadata": {},
   "source": [
    "## Lectura y limpieza de datos"
   ]
  },
  {
   "cell_type": "code",
   "execution_count": 6,
   "id": "collect-child",
   "metadata": {
    "ExecuteTime": {
     "end_time": "2022-03-01T23:24:42.026385Z",
     "start_time": "2022-03-01T23:24:41.882728Z"
    }
   },
   "outputs": [],
   "source": [
    "ruta = '/home/jose/Documentos/bd/nyc_arrests/'"
   ]
  },
  {
   "cell_type": "code",
   "execution_count": 9,
   "id": "analyzed-india",
   "metadata": {
    "ExecuteTime": {
     "end_time": "2022-03-01T23:25:12.356804Z",
     "start_time": "2022-03-01T23:25:12.353372Z"
    }
   },
   "outputs": [],
   "source": [
    "listaArchivos = [os.path.join(ruta,arch) for arch in os.listdir(ruta) if 'csv' in arch]"
   ]
  },
  {
   "cell_type": "code",
   "execution_count": 16,
   "id": "inappropriate-tractor",
   "metadata": {
    "ExecuteTime": {
     "end_time": "2022-03-01T23:28:08.821528Z",
     "start_time": "2022-03-01T23:27:58.806068Z"
    }
   },
   "outputs": [],
   "source": [
    "datos = pd.concat(map(lambda arch:pd.read_csv(arch,\n",
    "                                              dtype=str,\n",
    "                                              usecols=['ARREST_KEY',\n",
    "                                                       'ARREST_DATE',\n",
    "                                                       'OFNS_DESC',\n",
    "                                                       'ARREST_BORO',\n",
    "                                                       'AGE_GROUP',\n",
    "                                                       'PERP_SEX',\n",
    "                                                       'PERP_RACE',\n",
    "                                                       'Latitude',\n",
    "                                                       'Longitude']),\n",
    "                                                       listaArchivos),ignore_index=True)"
   ]
  },
  {
   "cell_type": "code",
   "execution_count": 17,
   "id": "million-finish",
   "metadata": {
    "ExecuteTime": {
     "end_time": "2022-03-01T23:28:09.940269Z",
     "start_time": "2022-03-01T23:28:09.936763Z"
    }
   },
   "outputs": [
    {
     "data": {
      "text/plain": [
       "(5227612, 9)"
      ]
     },
     "execution_count": 17,
     "metadata": {},
     "output_type": "execute_result"
    }
   ],
   "source": [
    "datos.shape"
   ]
  },
  {
   "cell_type": "code",
   "execution_count": 19,
   "id": "beneficial-variation",
   "metadata": {
    "ExecuteTime": {
     "end_time": "2022-03-01T23:29:04.690030Z",
     "start_time": "2022-03-01T23:29:04.686934Z"
    }
   },
   "outputs": [],
   "source": [
    "campos_varchar = ['ARREST_KEY','OFNS_DESC','AGE_GROUP','PERP_RACE']"
   ]
  },
  {
   "cell_type": "code",
   "execution_count": 36,
   "id": "united-bread",
   "metadata": {
    "ExecuteTime": {
     "end_time": "2022-03-01T23:36:48.510562Z",
     "start_time": "2022-03-01T23:36:41.011932Z"
    }
   },
   "outputs": [],
   "source": [
    "campos = dict(zip(campos_varchar,\n",
    "                  map(lambda c:VARCHAR(datos[c].map(lambda x:len(x) if type(x)==str else 0).max()),\n",
    "                                     campos_varchar)))"
   ]
  },
  {
   "cell_type": "code",
   "execution_count": 37,
   "id": "atmospheric-solomon",
   "metadata": {
    "ExecuteTime": {
     "end_time": "2022-03-01T23:36:48.984653Z",
     "start_time": "2022-03-01T23:36:48.979686Z"
    }
   },
   "outputs": [
    {
     "data": {
      "text/plain": [
       "{'ARREST_KEY': VARCHAR(length=9),\n",
       " 'OFNS_DESC': VARCHAR(length=43),\n",
       " 'AGE_GROUP': VARCHAR(length=7),\n",
       " 'PERP_RACE': VARCHAR(length=30)}"
      ]
     },
     "execution_count": 37,
     "metadata": {},
     "output_type": "execute_result"
    }
   ],
   "source": [
    "campos"
   ]
  },
  {
   "cell_type": "code",
   "execution_count": 38,
   "id": "persistent-david",
   "metadata": {
    "ExecuteTime": {
     "end_time": "2022-03-01T23:36:53.425710Z",
     "start_time": "2022-03-01T23:36:53.423245Z"
    }
   },
   "outputs": [],
   "source": [
    "campos.update({'ARREST_BORO':CHAR(1),'PERP_SEX':CHAR(1),'ARREST_DATE':DATE,'Latitude':FLOAT,'Longitude':FLOAT})"
   ]
  },
  {
   "cell_type": "code",
   "execution_count": 39,
   "id": "crucial-employment",
   "metadata": {
    "ExecuteTime": {
     "end_time": "2022-03-01T23:36:54.055979Z",
     "start_time": "2022-03-01T23:36:54.051693Z"
    }
   },
   "outputs": [
    {
     "data": {
      "text/plain": [
       "{'ARREST_KEY': VARCHAR(length=9),\n",
       " 'OFNS_DESC': VARCHAR(length=43),\n",
       " 'AGE_GROUP': VARCHAR(length=7),\n",
       " 'PERP_RACE': VARCHAR(length=30),\n",
       " 'ARREST_BORO': CHAR(length=1),\n",
       " 'PERP_SEX': CHAR(length=1),\n",
       " 'ARREST_DATE': sqlalchemy.sql.sqltypes.DATE,\n",
       " 'Latitude': sqlalchemy.sql.sqltypes.FLOAT,\n",
       " 'Longitude': sqlalchemy.sql.sqltypes.FLOAT}"
      ]
     },
     "execution_count": 39,
     "metadata": {},
     "output_type": "execute_result"
    }
   ],
   "source": [
    "campos"
   ]
  },
  {
   "cell_type": "code",
   "execution_count": 29,
   "id": "representative-logistics",
   "metadata": {
    "ExecuteTime": {
     "end_time": "2022-03-01T23:33:52.765581Z",
     "start_time": "2022-03-01T23:33:39.824054Z"
    }
   },
   "outputs": [],
   "source": [
    "datos['ARREST_DATE'] = pd.to_datetime(datos['ARREST_DATE'],format='%m/%d/%Y',errors='coerce')"
   ]
  },
  {
   "cell_type": "code",
   "execution_count": 30,
   "id": "expensive-evidence",
   "metadata": {
    "ExecuteTime": {
     "end_time": "2022-03-01T23:33:52.776133Z",
     "start_time": "2022-03-01T23:33:52.766908Z"
    }
   },
   "outputs": [
    {
     "data": {
      "text/html": [
       "<div>\n",
       "<style scoped>\n",
       "    .dataframe tbody tr th:only-of-type {\n",
       "        vertical-align: middle;\n",
       "    }\n",
       "\n",
       "    .dataframe tbody tr th {\n",
       "        vertical-align: top;\n",
       "    }\n",
       "\n",
       "    .dataframe thead th {\n",
       "        text-align: right;\n",
       "    }\n",
       "</style>\n",
       "<table border=\"1\" class=\"dataframe\">\n",
       "  <thead>\n",
       "    <tr style=\"text-align: right;\">\n",
       "      <th></th>\n",
       "      <th>ARREST_KEY</th>\n",
       "      <th>ARREST_DATE</th>\n",
       "      <th>OFNS_DESC</th>\n",
       "      <th>ARREST_BORO</th>\n",
       "      <th>AGE_GROUP</th>\n",
       "      <th>PERP_SEX</th>\n",
       "      <th>PERP_RACE</th>\n",
       "      <th>Latitude</th>\n",
       "      <th>Longitude</th>\n",
       "    </tr>\n",
       "  </thead>\n",
       "  <tbody>\n",
       "    <tr>\n",
       "      <th>0</th>\n",
       "      <td>32311380</td>\n",
       "      <td>2007-06-18</td>\n",
       "      <td>DANGEROUS DRUGS</td>\n",
       "      <td>Q</td>\n",
       "      <td>18-24</td>\n",
       "      <td>M</td>\n",
       "      <td>BLACK</td>\n",
       "      <td>NaN</td>\n",
       "      <td>NaN</td>\n",
       "    </tr>\n",
       "    <tr>\n",
       "      <th>1</th>\n",
       "      <td>192799737</td>\n",
       "      <td>2019-01-26</td>\n",
       "      <td>SEX CRIMES</td>\n",
       "      <td>M</td>\n",
       "      <td>45-64</td>\n",
       "      <td>M</td>\n",
       "      <td>BLACK</td>\n",
       "      <td>40.800694331000045</td>\n",
       "      <td>-73.941109285999971</td>\n",
       "    </tr>\n",
       "    <tr>\n",
       "      <th>2</th>\n",
       "      <td>193260691</td>\n",
       "      <td>2019-02-06</td>\n",
       "      <td>NaN</td>\n",
       "      <td>M</td>\n",
       "      <td>25-44</td>\n",
       "      <td>M</td>\n",
       "      <td>UNKNOWN</td>\n",
       "      <td>40.757839003000072</td>\n",
       "      <td>-73.991212110999982</td>\n",
       "    </tr>\n",
       "    <tr>\n",
       "      <th>3</th>\n",
       "      <td>149117452</td>\n",
       "      <td>2016-01-06</td>\n",
       "      <td>RAPE</td>\n",
       "      <td>K</td>\n",
       "      <td>25-44</td>\n",
       "      <td>M</td>\n",
       "      <td>BLACK</td>\n",
       "      <td>40.648650085000035</td>\n",
       "      <td>-73.95033556299995</td>\n",
       "    </tr>\n",
       "    <tr>\n",
       "      <th>4</th>\n",
       "      <td>190049060</td>\n",
       "      <td>2018-11-15</td>\n",
       "      <td>RAPE</td>\n",
       "      <td>K</td>\n",
       "      <td>25-44</td>\n",
       "      <td>M</td>\n",
       "      <td>BLACK</td>\n",
       "      <td>40.67458330800008</td>\n",
       "      <td>-73.93022154099998</td>\n",
       "    </tr>\n",
       "  </tbody>\n",
       "</table>\n",
       "</div>"
      ],
      "text/plain": [
       "  ARREST_KEY ARREST_DATE        OFNS_DESC ARREST_BORO AGE_GROUP PERP_SEX  \\\n",
       "0   32311380  2007-06-18  DANGEROUS DRUGS           Q     18-24        M   \n",
       "1  192799737  2019-01-26       SEX CRIMES           M     45-64        M   \n",
       "2  193260691  2019-02-06              NaN           M     25-44        M   \n",
       "3  149117452  2016-01-06             RAPE           K     25-44        M   \n",
       "4  190049060  2018-11-15             RAPE           K     25-44        M   \n",
       "\n",
       "  PERP_RACE            Latitude            Longitude  \n",
       "0     BLACK                 NaN                  NaN  \n",
       "1     BLACK  40.800694331000045  -73.941109285999971  \n",
       "2   UNKNOWN  40.757839003000072  -73.991212110999982  \n",
       "3     BLACK  40.648650085000035   -73.95033556299995  \n",
       "4     BLACK   40.67458330800008   -73.93022154099998  "
      ]
     },
     "execution_count": 30,
     "metadata": {},
     "output_type": "execute_result"
    }
   ],
   "source": [
    "datos.head()"
   ]
  },
  {
   "cell_type": "markdown",
   "id": "behavioral-intro",
   "metadata": {},
   "source": [
    "## Cargar datos a la nube"
   ]
  },
  {
   "cell_type": "code",
   "execution_count": null,
   "id": "blond-smart",
   "metadata": {
    "ExecuteTime": {
     "start_time": "2022-03-01T23:37:31.987Z"
    }
   },
   "outputs": [],
   "source": [
    "datos.to_sql(con=cnx,\n",
    "             name='historico_ny',\n",
    "             chunksize=100000,\n",
    "             if_exists='replace',\n",
    "             index=False,\n",
    "             dtype=campos)"
   ]
  },
  {
   "cell_type": "code",
   "execution_count": null,
   "id": "optimum-assignment",
   "metadata": {},
   "outputs": [],
   "source": []
  }
 ],
 "metadata": {
  "kernelspec": {
   "display_name": "bd",
   "language": "python",
   "name": "bd"
  },
  "language_info": {
   "codemirror_mode": {
    "name": "ipython",
    "version": 3
   },
   "file_extension": ".py",
   "mimetype": "text/x-python",
   "name": "python",
   "nbconvert_exporter": "python",
   "pygments_lexer": "ipython3",
   "version": "3.9.1"
  },
  "toc": {
   "base_numbering": 1,
   "nav_menu": {},
   "number_sections": true,
   "sideBar": true,
   "skip_h1_title": false,
   "title_cell": "Table of Contents",
   "title_sidebar": "Contents",
   "toc_cell": false,
   "toc_position": {},
   "toc_section_display": true,
   "toc_window_display": true
  }
 },
 "nbformat": 4,
 "nbformat_minor": 5
}
