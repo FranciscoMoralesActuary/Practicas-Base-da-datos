{
 "cells": [
  {
   "cell_type": "markdown",
   "id": "young-november",
   "metadata": {},
   "source": [
    "## Dependencias"
   ]
  },
  {
   "cell_type": "code",
   "execution_count": 40,
   "id": "powered-automation",
   "metadata": {
    "ExecuteTime": {
     "end_time": "2022-03-01T22:43:15.294558Z",
     "start_time": "2022-03-01T22:43:15.290684Z"
    }
   },
   "outputs": [],
   "source": [
    "import pandas as pd\n",
    "import json #JSON = Java Script Object Notation\n",
    "from sqlalchemy import create_engine\n",
    "from sqlalchemy.types import VARCHAR,FLOAT,INTEGER,DATE\n",
    "import os\n",
    "\n",
    "pd.set_option('display.max_columns',None)"
   ]
  },
  {
   "cell_type": "markdown",
   "id": "religious-platform",
   "metadata": {},
   "source": [
    "## Credenciales"
   ]
  },
  {
   "cell_type": "code",
   "execution_count": 11,
   "id": "dense-wallet",
   "metadata": {
    "ExecuteTime": {
     "end_time": "2022-03-01T22:27:17.390885Z",
     "start_time": "2022-03-01T22:27:17.388098Z"
    }
   },
   "outputs": [],
   "source": [
    "creds = json.load(open('credenciales.json','rb'))"
   ]
  },
  {
   "cell_type": "markdown",
   "id": "junior-thinking",
   "metadata": {},
   "source": [
    "## Crear conexión a base de datos"
   ]
  },
  {
   "cell_type": "code",
   "execution_count": 13,
   "id": "exotic-roller",
   "metadata": {
    "ExecuteTime": {
     "end_time": "2022-03-01T22:28:01.447815Z",
     "start_time": "2022-03-01T22:28:00.917308Z"
    }
   },
   "outputs": [],
   "source": [
    "url = f\"mysql+pymysql://{creds['user']}:{creds['password']}@{creds['servidor']}/{creds['base_de_datos']}\"\n",
    "cnx = create_engine(url,encoding='utf8')\n",
    "cnx = cnx.connect()"
   ]
  },
  {
   "cell_type": "code",
   "execution_count": 14,
   "id": "graphic-glass",
   "metadata": {
    "ExecuteTime": {
     "end_time": "2022-03-01T22:28:19.947184Z",
     "start_time": "2022-03-01T22:28:19.942287Z"
    }
   },
   "outputs": [
    {
     "data": {
      "text/plain": [
       "False"
      ]
     },
     "execution_count": 14,
     "metadata": {},
     "output_type": "execute_result"
    }
   ],
   "source": [
    "cnx.closed"
   ]
  },
  {
   "cell_type": "markdown",
   "id": "featured-elimination",
   "metadata": {},
   "source": [
    "## Lectura y limpieza de datos"
   ]
  },
  {
   "cell_type": "code",
   "execution_count": 16,
   "id": "monetary-logic",
   "metadata": {
    "ExecuteTime": {
     "end_time": "2022-03-01T22:30:06.585618Z",
     "start_time": "2022-03-01T22:30:06.582151Z"
    }
   },
   "outputs": [],
   "source": [
    "ruta = '/home/jose/Documentos/bd/delitos/'\n",
    "listaArchivos = sorted([os.path.join(ruta,arch) for arch in os.listdir(ruta)])\n",
    "arch = listaArchivos[0]"
   ]
  },
  {
   "cell_type": "markdown",
   "id": "incorrect-killer",
   "metadata": {},
   "source": [
    "### Función de carga de datos"
   ]
  },
  {
   "cell_type": "code",
   "execution_count": 46,
   "id": "incredible-windsor",
   "metadata": {
    "ExecuteTime": {
     "end_time": "2022-03-01T22:49:03.749787Z",
     "start_time": "2022-03-01T22:49:03.743823Z"
    }
   },
   "outputs": [],
   "source": [
    "def cargarDatos(arch:str):\n",
    "    datos = pd.read_csv(arch,usecols=['entidad','municipio','delito','carpetas','tasa','fecha'])\n",
    "    datos['fecha'] = pd.to_datetime(datos['fecha'].map(lambda x:x+'-01'),format='%Y-%m-%d')    \n",
    "    columnas_varchar = ['entidad','municipio','delito']\n",
    "    campos = dict(zip(columnas_varchar,map(lambda c:VARCHAR(datos[c].map(len).max()),columnas_varchar)))\n",
    "    campos.update({'carpetas':INTEGER,'tasa':FLOAT,'fecha':DATE})\n",
    "    datos.to_sql(con=cnx,\n",
    "             if_exists='append',\n",
    "             name='historico',\n",
    "             index=False,\n",
    "             chunksize=1000,\n",
    "             dtype=campos)"
   ]
  },
  {
   "cell_type": "markdown",
   "id": "charming-thought",
   "metadata": {
    "ExecuteTime": {
     "end_time": "2022-03-01T22:49:17.163857Z",
     "start_time": "2022-03-01T22:49:11.447832Z"
    }
   },
   "source": [
    "### Cargar archivos a la nube"
   ]
  },
  {
   "cell_type": "code",
   "execution_count": 52,
   "id": "personal-lover",
   "metadata": {
    "ExecuteTime": {
     "end_time": "2022-03-01T23:15:48.163353Z",
     "start_time": "2022-03-01T23:15:41.359673Z"
    }
   },
   "outputs": [],
   "source": [
    "# map(cargarDatos,listaArchivos)    \n",
    "for arch in listaArchivos[-1:]:\n",
    "    cargarDatos(arch)"
   ]
  },
  {
   "cell_type": "code",
   "execution_count": 57,
   "id": "happy-dutch",
   "metadata": {
    "ExecuteTime": {
     "end_time": "2022-03-01T23:20:10.812351Z",
     "start_time": "2022-03-01T23:20:10.769535Z"
    }
   },
   "outputs": [],
   "source": [
    "datos = pd.read_csv(arch,usecols=['entidad','municipio','delito','carpetas','tasa','fecha'])"
   ]
  },
  {
   "cell_type": "code",
   "execution_count": 58,
   "id": "substantial-beatles",
   "metadata": {
    "ExecuteTime": {
     "end_time": "2022-03-01T23:20:11.554165Z",
     "start_time": "2022-03-01T23:20:11.546216Z"
    }
   },
   "outputs": [
    {
     "data": {
      "text/plain": [
       "Oaxaca                             9120\n",
       "Puebla                             3472\n",
       "Veracruz de Ignacio de la Llave    3392\n",
       "México                             2000\n",
       "Jalisco                            2000\n",
       "Chiapas                            1888\n",
       "Michoacán de Ocampo                1808\n",
       "Yucatán                            1696\n",
       "Hidalgo                            1344\n",
       "Guerrero                           1296\n",
       "Sonora                             1152\n",
       "Chihuahua                          1072\n",
       "Tlaxcala                            960\n",
       "San Luis Potosí                     928\n",
       "Zacatecas                           928\n",
       "Nuevo León                          816\n",
       "Guanajuato                          736\n",
       "Tamaulipas                          688\n",
       "Durango                             624\n",
       "Coahuila de Zaragoza                608\n",
       "Morelos                             528\n",
       "Nayarit                             320\n",
       "Querétaro                           288\n",
       "Sinaloa                             288\n",
       "Tabasco                             272\n",
       "Ciudad de México                    256\n",
       "Campeche                            176\n",
       "Aguascalientes                      176\n",
       "Quintana Roo                        160\n",
       "Colima                              160\n",
       "Baja California                      80\n",
       "Baja California Sur                  80\n",
       "Name: entidad, dtype: int64"
      ]
     },
     "execution_count": 58,
     "metadata": {},
     "output_type": "execute_result"
    }
   ],
   "source": [
    "datos.entidad.value_counts()"
   ]
  },
  {
   "cell_type": "code",
   "execution_count": null,
   "id": "collect-child",
   "metadata": {},
   "outputs": [],
   "source": []
  }
 ],
 "metadata": {
  "kernelspec": {
   "display_name": "bd",
   "language": "python",
   "name": "bd"
  },
  "language_info": {
   "codemirror_mode": {
    "name": "ipython",
    "version": 3
   },
   "file_extension": ".py",
   "mimetype": "text/x-python",
   "name": "python",
   "nbconvert_exporter": "python",
   "pygments_lexer": "ipython3",
   "version": "3.9.1"
  },
  "toc": {
   "base_numbering": 1,
   "nav_menu": {},
   "number_sections": true,
   "sideBar": true,
   "skip_h1_title": false,
   "title_cell": "Table of Contents",
   "title_sidebar": "Contents",
   "toc_cell": false,
   "toc_position": {},
   "toc_section_display": true,
   "toc_window_display": true
  }
 },
 "nbformat": 4,
 "nbformat_minor": 5
}
