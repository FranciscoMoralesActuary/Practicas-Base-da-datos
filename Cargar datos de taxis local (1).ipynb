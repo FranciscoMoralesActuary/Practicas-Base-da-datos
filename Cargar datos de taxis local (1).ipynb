{
 "cells": [
  {
   "cell_type": "markdown",
   "id": "young-november",
   "metadata": {},
   "source": [
    "## Dependencias"
   ]
  },
  {
   "cell_type": "code",
   "execution_count": 28,
   "id": "powered-automation",
   "metadata": {
    "ExecuteTime": {
     "end_time": "2022-03-10T00:27:39.626409Z",
     "start_time": "2022-03-10T00:27:39.617378Z"
    }
   },
   "outputs": [],
   "source": [
    "import pandas as pd\n",
    "import json #JSON = Java Script Object Notation\n",
    "from sqlalchemy import create_engine\n",
    "from sqlalchemy.types import VARCHAR,FLOAT,INTEGER,DATE,CHAR,DATETIME\n",
    "import os\n",
    "\n",
    "pd.set_option('display.max_columns',None)"
   ]
  },
  {
   "cell_type": "markdown",
   "id": "religious-platform",
   "metadata": {},
   "source": [
    "## Credenciales"
   ]
  },
  {
   "cell_type": "code",
   "execution_count": 3,
   "id": "dense-wallet",
   "metadata": {
    "ExecuteTime": {
     "end_time": "2022-03-10T00:18:41.821036Z",
     "start_time": "2022-03-10T00:18:41.818017Z"
    }
   },
   "outputs": [],
   "source": [
    "creds = json.load(open('credenciales_local.json','rb'))"
   ]
  },
  {
   "cell_type": "markdown",
   "id": "junior-thinking",
   "metadata": {},
   "source": [
    "## Crear conexión a base de datos"
   ]
  },
  {
   "cell_type": "code",
   "execution_count": 4,
   "id": "exotic-roller",
   "metadata": {
    "ExecuteTime": {
     "end_time": "2022-03-10T00:18:42.998999Z",
     "start_time": "2022-03-10T00:18:42.493227Z"
    }
   },
   "outputs": [],
   "source": [
    "url = f\"mysql+pymysql://{creds['user']}:{creds['password']}@{creds['servidor']}/{creds['base_de_datos']}\"\n",
    "cnx = create_engine(url,encoding='utf8')\n",
    "cnx = cnx.connect()"
   ]
  },
  {
   "cell_type": "code",
   "execution_count": 5,
   "id": "graphic-glass",
   "metadata": {
    "ExecuteTime": {
     "end_time": "2022-03-10T00:18:47.722286Z",
     "start_time": "2022-03-10T00:18:47.714766Z"
    }
   },
   "outputs": [
    {
     "data": {
      "text/plain": [
       "False"
      ]
     },
     "execution_count": 5,
     "metadata": {},
     "output_type": "execute_result"
    }
   ],
   "source": [
    "cnx.closed"
   ]
  },
  {
   "cell_type": "markdown",
   "id": "featured-elimination",
   "metadata": {},
   "source": [
    "## Lectura y limpieza de datos"
   ]
  },
  {
   "cell_type": "code",
   "execution_count": 6,
   "id": "collect-child",
   "metadata": {
    "ExecuteTime": {
     "end_time": "2022-03-10T00:18:54.213119Z",
     "start_time": "2022-03-10T00:18:54.205580Z"
    }
   },
   "outputs": [],
   "source": [
    "ruta = '/home/jose/Documentos/bd/chicago/'"
   ]
  },
  {
   "cell_type": "code",
   "execution_count": 7,
   "id": "nuclear-designer",
   "metadata": {
    "ExecuteTime": {
     "end_time": "2022-03-10T00:18:56.342728Z",
     "start_time": "2022-03-10T00:18:56.339879Z"
    }
   },
   "outputs": [],
   "source": [
    "listaArchivos = [os.path.join(ruta,arch) for arch in os.listdir(ruta) if 'csv' in arch]"
   ]
  },
  {
   "cell_type": "markdown",
   "id": "turned-belle",
   "metadata": {},
   "source": [
    "## Cargar datos al servidor local"
   ]
  },
  {
   "cell_type": "code",
   "execution_count": 49,
   "id": "dfe62ed0",
   "metadata": {
    "ExecuteTime": {
     "end_time": "2022-03-10T00:37:29.817649Z",
     "start_time": "2022-03-10T00:37:29.806896Z"
    }
   },
   "outputs": [],
   "source": [
    "def cargarDatos(archivo:str):\n",
    "    df  = pd.read_csv(archivo,dtype=str)\n",
    "    for fh in ['trip_start_timestamp','trip_end_timestamp']:\n",
    "        df[fh] = df[fh].fillna('9999-12-31').map(lambda x:x.split('-')).map(lambda x:[x[0],\"%02d\"%int(x[1]),x[2]]).map(lambda x:'-'.join(x))\n",
    "        df[fh] = pd.to_datetime(df[fh],errors='coerce')    \n",
    "\n",
    "    campos = dict(zip(df.columns,\n",
    "                      [INTEGER]+[DATETIME]*2+[INTEGER,FLOAT]+4*[INTEGER]+[FLOAT]*5+[VARCHAR(80)]+[INTEGER]*5))\n",
    "\n",
    "    df.sample(10000).to_sql(con=cnx,\n",
    "                 name='viajes',\n",
    "                 chunksize=1000,\n",
    "                 if_exists='append',\n",
    "                 index=False,\n",
    "                 dtype=campos)"
   ]
  },
  {
   "cell_type": "code",
   "execution_count": 50,
   "id": "noted-ecology",
   "metadata": {
    "ExecuteTime": {
     "end_time": "2022-03-10T00:41:34.373685Z",
     "start_time": "2022-03-10T00:38:25.710580Z"
    }
   },
   "outputs": [
    {
     "name": "stdout",
     "output_type": "stream",
     "text": [
      "cargando el archivo /home/jose/Documentos/bd/chicago/chicago_taxi_trips_2016_08.csv a la base de datos local..l\n",
      "cargando el archivo /home/jose/Documentos/bd/chicago/chicago_taxi_trips_2016_02.csv a la base de datos local..l\n",
      "cargando el archivo /home/jose/Documentos/bd/chicago/chicago_taxi_trips_2016_06.csv a la base de datos local..l\n",
      "cargando el archivo /home/jose/Documentos/bd/chicago/chicago_taxi_trips_2016_09.csv a la base de datos local..l\n",
      "cargando el archivo /home/jose/Documentos/bd/chicago/chicago_taxi_trips_2016_03.csv a la base de datos local..l\n",
      "cargando el archivo /home/jose/Documentos/bd/chicago/chicago_taxi_trips_2016_11.csv a la base de datos local..l\n",
      "cargando el archivo /home/jose/Documentos/bd/chicago/chicago_taxi_trips_2016_07.csv a la base de datos local..l\n",
      "cargando el archivo /home/jose/Documentos/bd/chicago/chicago_taxi_trips_2016_12.csv a la base de datos local..l\n",
      "cargando el archivo /home/jose/Documentos/bd/chicago/chicago_taxi_trips_2016_05.csv a la base de datos local..l\n",
      "cargando el archivo /home/jose/Documentos/bd/chicago/chicago_taxi_trips_2016_01.csv a la base de datos local..l\n",
      "cargando el archivo /home/jose/Documentos/bd/chicago/chicago_taxi_trips_2016_04.csv a la base de datos local..l\n",
      "cargando el archivo /home/jose/Documentos/bd/chicago/chicago_taxi_trips_2016_10.csv a la base de datos local..l\n"
     ]
    }
   ],
   "source": [
    "for archivo in listaArchivos:\n",
    "    print(f\"cargando el archivo {archivo} a la base de datos local..l\")\n",
    "    cargarDatos(archivo)"
   ]
  },
  {
   "cell_type": "markdown",
   "id": "d1fb8ab2",
   "metadata": {},
   "source": [
    "## Cargar catálogos al servidor local"
   ]
  },
  {
   "cell_type": "code",
   "execution_count": 56,
   "id": "23d5803e",
   "metadata": {
    "ExecuteTime": {
     "end_time": "2022-03-10T00:42:37.262206Z",
     "start_time": "2022-03-10T00:42:37.251744Z"
    }
   },
   "outputs": [],
   "source": [
    "cat = json.load(open(os.path.join(ruta,'column_remapping.json'),'rb'))"
   ]
  },
  {
   "cell_type": "code",
   "execution_count": 59,
   "id": "1a078921",
   "metadata": {
    "ExecuteTime": {
     "end_time": "2022-03-10T00:42:49.751648Z",
     "start_time": "2022-03-10T00:42:49.746478Z"
    }
   },
   "outputs": [
    {
     "data": {
      "text/plain": [
       "dict_keys(['taxi_id', 'company', 'pickup_census_tract', 'dropoff_census_tract', 'pickup_latitude', 'pickup_longitude', 'dropoff_latitude', 'dropoff_longitude'])"
      ]
     },
     "execution_count": 59,
     "metadata": {},
     "output_type": "execute_result"
    }
   ],
   "source": [
    "cat.keys()"
   ]
  },
  {
   "cell_type": "code",
   "execution_count": null,
   "id": "dc7cea4d",
   "metadata": {
    "ExecuteTime": {
     "end_time": "2022-03-10T00:48:50.229037Z",
     "start_time": "2022-03-10T00:48:49.156702Z"
    }
   },
   "outputs": [],
   "source": [
    "for k in cat.keys():\n",
    "    aux = pd.Series(cat[k]).to_frame()\n",
    "    aux.columns = [k]\n",
    "    aux[f'{k}_clave'] = aux.index.astype(int)\n",
    "    k = k.split('_')\n",
    "    k = \"\".join(k[:1]+[w.capitalize() for w in k[1:]])\n",
    "    aux.to_sql(con=cnx,\n",
    "                 name=k,\n",
    "                 chunksize=1000,\n",
    "                 if_exists='replace',\n",
    "                 index=False)"
   ]
  },
  {
   "cell_type": "code",
   "execution_count": 80,
   "id": "e0b21479",
   "metadata": {
    "ExecuteTime": {
     "end_time": "2022-03-10T01:40:59.763674Z",
     "start_time": "2022-03-10T01:40:59.760804Z"
    }
   },
   "outputs": [],
   "source": [
    "query = \"\"\"\n",
    "    select\n",
    "        mes,\n",
    "        round((actual-anterior)/ anterior, 2) as tasa_crec\n",
    "    from\n",
    "        (\n",
    "        select\n",
    "            mes,\n",
    "            ingreso_total as actual,\n",
    "            LAG(ingreso_total, 1) over (\n",
    "            order by mes) as anterior\n",
    "        from\n",
    "            (\n",
    "            SELECT\n",
    "                DATE_FORMAT(trip_start_timestamp, '%%Y-%%m') AS mes,\n",
    "                round(SUM(trip_total), 2) AS ingreso_total\n",
    "            FROM\n",
    "                taxis.viajes\n",
    "            GROUP BY\n",
    "                mes\n",
    "            order by\n",
    "                mes) as ingresos) as comparativo;\n",
    "\"\"\""
   ]
  },
  {
   "cell_type": "code",
   "execution_count": 83,
   "id": "bda0ab57",
   "metadata": {
    "ExecuteTime": {
     "end_time": "2022-03-10T01:41:27.044241Z",
     "start_time": "2022-03-10T01:41:23.591081Z"
    }
   },
   "outputs": [
    {
     "data": {
      "text/plain": [
       "<AxesSubplot:xlabel='mes'>"
      ]
     },
     "execution_count": 83,
     "metadata": {},
     "output_type": "execute_result"
    },
    {
     "data": {
      "image/png": "[encoded data removed]",
      "text/plain": [
       "<Figure size 432x288 with 1 Axes>"
      ]
     },
     "metadata": {
      "needs_background": "light"
     },
     "output_type": "display_data"
    }
   ],
   "source": [
    "pd.read_sql(con=cnx,sql=query).set_index('mes').plot(kind='bar')"
   ]
  },
  {
   "cell_type": "code",
   "execution_count": null,
   "id": "637ec58d",
   "metadata": {},
   "outputs": [],
   "source": []
  }
 ],
 "metadata": {
  "kernelspec": {
   "display_name": "bd",
   "language": "python",
   "name": "bd"
  },
  "language_info": {
   "codemirror_mode": {
    "name": "ipython",
    "version": 3
   },
   "file_extension": ".py",
   "mimetype": "text/x-python",
   "name": "python",
   "nbconvert_exporter": "python",
   "pygments_lexer": "ipython3",
   "version": "3.9.1"
  },
  "toc": {
   "base_numbering": 1,
   "nav_menu": {},
   "number_sections": true,
   "sideBar": true,
   "skip_h1_title": false,
   "title_cell": "Table of Contents",
   "title_sidebar": "Contents",
   "toc_cell": false,
   "toc_position": {},
   "toc_section_display": true,
   "toc_window_display": true
  }
 },
 "nbformat": 4,
 "nbformat_minor": 5
}
