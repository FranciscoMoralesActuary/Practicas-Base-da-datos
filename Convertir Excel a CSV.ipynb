{
 "cells": [
  {
   "cell_type": "code",
   "execution_count": 1,
   "id": "collected-colony",
   "metadata": {
    "ExecuteTime": {
     "end_time": "2022-04-19T22:25:11.448429Z",
     "start_time": "2022-04-19T22:25:03.957588Z"
    }
   },
   "outputs": [],
   "source": [
    "import pandas as pd"
   ]
  },
  {
   "cell_type": "code",
   "execution_count": 2,
   "id": "overhead-sacrifice",
   "metadata": {
    "ExecuteTime": {
     "end_time": "2022-04-19T22:25:15.833553Z",
     "start_time": "2022-04-19T22:25:15.827505Z"
    }
   },
   "outputs": [],
   "source": [
    "ruta = 'ejercicio_horarios_acatlan.xlsx'"
   ]
  },
  {
   "cell_type": "code",
   "execution_count": 16,
   "id": "agricultural-weight",
   "metadata": {
    "ExecuteTime": {
     "end_time": "2022-04-19T22:28:56.201241Z",
     "start_time": "2022-04-19T22:28:56.149907Z"
    }
   },
   "outputs": [],
   "source": [
    "with pd.ExcelFile(ruta) as xl:\n",
    "    hojas = [hoja for hoja in xl.sheet_names if '3FN' in hoja]\n",
    "    list(map(lambda hoja:pd.read_excel(xl,sheet_name=hoja).to_csv(f'{hoja}.csv',index=False),hojas))"
   ]
  },
  {
   "cell_type": "code",
   "execution_count": 18,
   "id": "thirty-offering",
   "metadata": {
    "ExecuteTime": {
     "end_time": "2022-04-19T22:29:50.483297Z",
     "start_time": "2022-04-19T22:29:50.477649Z"
    }
   },
   "outputs": [
    {
     "data": {
      "text/plain": [
       "[1, 4, 9, 16, 25]"
      ]
     },
     "execution_count": 18,
     "metadata": {},
     "output_type": "execute_result"
    }
   ],
   "source": [
    "list(map(lambda x:x**2,[1,2,3,4,5]))"
   ]
  },
  {
   "cell_type": "code",
   "execution_count": null,
   "id": "failing-animal",
   "metadata": {},
   "outputs": [],
   "source": []
  }
 ],
 "metadata": {
  "kernelspec": {
   "display_name": "bd",
   "language": "python",
   "name": "bd"
  },
  "language_info": {
   "codemirror_mode": {
    "name": "ipython",
    "version": 3
   },
   "file_extension": ".py",
   "mimetype": "text/x-python",
   "name": "python",
   "nbconvert_exporter": "python",
   "pygments_lexer": "ipython3",
   "version": "3.9.1"
  },
  "toc": {
   "base_numbering": 1,
   "nav_menu": {},
   "number_sections": true,
   "sideBar": true,
   "skip_h1_title": false,
   "title_cell": "Table of Contents",
   "title_sidebar": "Contents",
   "toc_cell": false,
   "toc_position": {},
   "toc_section_display": true,
   "toc_window_display": false
  }
 },
 "nbformat": 4,
 "nbformat_minor": 5
}
