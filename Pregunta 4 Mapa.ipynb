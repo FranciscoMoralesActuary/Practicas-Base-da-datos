{
 "cells": [
  {
   "cell_type": "markdown",
   "id": "young-november",
   "metadata": {},
   "source": [
    "## Dependencias"
   ]
  },
  {
   "cell_type": "code",
   "execution_count": 18,
   "id": "powered-automation",
   "metadata": {
    "ExecuteTime": {
     "end_time": "2022-03-12T01:53:58.166473Z",
     "start_time": "2022-03-12T01:53:58.163153Z"
    }
   },
   "outputs": [],
   "source": [
    "import pandas as pd\n",
    "from sqlalchemy import create_engine\n",
    "from keplergl import KeplerGl\n",
    "\n",
    "pd.set_option('display.max_columns',None)"
   ]
  },
  {
   "cell_type": "markdown",
   "id": "religious-platform",
   "metadata": {},
   "source": [
    "## Credenciales"
   ]
  },
  {
   "cell_type": "code",
   "execution_count": 19,
   "id": "dense-wallet",
   "metadata": {
    "ExecuteTime": {
     "end_time": "2022-03-12T01:53:58.520823Z",
     "start_time": "2022-03-12T01:53:58.518100Z"
    }
   },
   "outputs": [],
   "source": [
    "creds = json.load(open('credenciales_local.json','rb'))"
   ]
  },
  {
   "cell_type": "markdown",
   "id": "junior-thinking",
   "metadata": {},
   "source": [
    "## Crear conexión a base de datos"
   ]
  },
  {
   "cell_type": "code",
   "execution_count": 20,
   "id": "exotic-roller",
   "metadata": {
    "ExecuteTime": {
     "end_time": "2022-03-12T01:53:58.994397Z",
     "start_time": "2022-03-12T01:53:58.989528Z"
    }
   },
   "outputs": [],
   "source": [
    "url = f\"mysql+pymysql://{creds['user']}:{creds['password']}@{creds['servidor']}/{creds['base_de_datos']}\"\n",
    "cnx = create_engine(url,encoding='utf8')\n",
    "cnx = cnx.connect()"
   ]
  },
  {
   "cell_type": "code",
   "execution_count": 21,
   "id": "graphic-glass",
   "metadata": {
    "ExecuteTime": {
     "end_time": "2022-03-12T01:53:59.306895Z",
     "start_time": "2022-03-12T01:53:59.302313Z"
    }
   },
   "outputs": [
    {
     "data": {
      "text/plain": [
       "False"
      ]
     },
     "execution_count": 21,
     "metadata": {},
     "output_type": "execute_result"
    }
   ],
   "source": [
    "cnx.closed"
   ]
  },
  {
   "cell_type": "markdown",
   "id": "located-planet",
   "metadata": {},
   "source": [
    "## Lectura de datos"
   ]
  },
  {
   "cell_type": "code",
   "execution_count": 24,
   "id": "perceived-photograph",
   "metadata": {
    "ExecuteTime": {
     "end_time": "2022-03-12T01:57:17.304418Z",
     "start_time": "2022-03-12T01:57:17.300688Z"
    }
   },
   "outputs": [],
   "source": [
    "query = \"\"\"\n",
    "    SELECT viajes.taxi_id,\n",
    "           viajes.trip_start_timestamp,\n",
    "           plat.pickup_latitude,\n",
    "           plon.pickup_longitude,\n",
    "           dlat.dropoff_latitude,\n",
    "           dlon.dropoff_longitude\n",
    "    FROM   viajes\n",
    "           INNER JOIN pickuplatitude plat\n",
    "                   ON viajes.pickup_latitude = plat.pickup_latitude_clave\n",
    "           INNER JOIN pickuplongitude plon\n",
    "                   ON viajes.pickup_longitude = plon.pickup_longitude_clave\n",
    "           INNER JOIN dropofflatitude dlat\n",
    "                   ON viajes.dropoff_latitude = dlat.dropoff_latitude_clave\n",
    "           INNER JOIN dropofflongitude dlon\n",
    "                   ON viajes.dropoff_longitude = dlon.dropoff_longitude_clave\n",
    "    WHERE  viajes.pickup_latitude IS NOT NULL\n",
    "           AND viajes.pickup_longitude IS NOT NULL\n",
    "           AND viajes.dropoff_latitude IS NOT NULL\n",
    "           AND viajes.dropoff_longitude IS NOT NULL\n",
    "           AND viajes.taxi_id IN (SELECT taxi_id\n",
    "                                  FROM   top20) \n",
    "\"\"\""
   ]
  },
  {
   "cell_type": "code",
   "execution_count": null,
   "id": "finished-ending",
   "metadata": {
    "ExecuteTime": {
     "start_time": "2022-03-12T01:57:17.583Z"
    }
   },
   "outputs": [],
   "source": [
    "df = pd.read_sql(con=cnx,sql=query)"
   ]
  },
  {
   "cell_type": "code",
   "execution_count": null,
   "id": "female-congress",
   "metadata": {
    "ExecuteTime": {
     "start_time": "2022-03-12T01:58:32.436Z"
    }
   },
   "outputs": [],
   "source": [
    "df.shape"
   ]
  },
  {
   "cell_type": "code",
   "execution_count": null,
   "id": "coupled-environment",
   "metadata": {
    "ExecuteTime": {
     "start_time": "2022-03-12T01:58:32.746Z"
    }
   },
   "outputs": [],
   "source": [
    "df.head()"
   ]
  },
  {
   "cell_type": "code",
   "execution_count": null,
   "id": "listed-thickness",
   "metadata": {
    "ExecuteTime": {
     "start_time": "2022-03-12T01:58:33.630Z"
    }
   },
   "outputs": [],
   "source": [
    "mapa = KeplerGl(height=600,width=800)"
   ]
  },
  {
   "cell_type": "code",
   "execution_count": null,
   "id": "electrical-knife",
   "metadata": {
    "ExecuteTime": {
     "start_time": "2022-03-12T01:58:37.493Z"
    }
   },
   "outputs": [],
   "source": [
    "mapa.add_data(df)"
   ]
  },
  {
   "cell_type": "code",
   "execution_count": null,
   "id": "tropical-advertising",
   "metadata": {
    "ExecuteTime": {
     "start_time": "2022-03-12T01:58:39.399Z"
    }
   },
   "outputs": [],
   "source": [
    "mapa"
   ]
  },
  {
   "cell_type": "code",
   "execution_count": null,
   "id": "fifteen-superintendent",
   "metadata": {},
   "outputs": [],
   "source": []
  }
 ],
 "metadata": {
  "kernelspec": {
   "display_name": "bd",
   "language": "python",
   "name": "bd"
  },
  "language_info": {
   "codemirror_mode": {
    "name": "ipython",
    "version": 3
   },
   "file_extension": ".py",
   "mimetype": "text/x-python",
   "name": "python",
   "nbconvert_exporter": "python",
   "pygments_lexer": "ipython3",
   "version": "3.9.1"
  },
  "toc": {
   "base_numbering": 1,
   "nav_menu": {},
   "number_sections": true,
   "sideBar": true,
   "skip_h1_title": false,
   "title_cell": "Table of Contents",
   "title_sidebar": "Contents",
   "toc_cell": false,
   "toc_position": {},
   "toc_section_display": true,
   "toc_window_display": true
  }
 },
 "nbformat": 4,
 "nbformat_minor": 5
}
